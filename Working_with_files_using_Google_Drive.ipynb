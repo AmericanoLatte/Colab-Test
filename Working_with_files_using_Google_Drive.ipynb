{
  "nbformat": 4,
  "nbformat_minor": 0,
  "metadata": {
    "colab": {
      "name": "Working with files using Google Drive.ipynb",
      "provenance": [],
      "authorship_tag": "ABX9TyPwOSTeOjfRE92WSXv8Yts1",
      "include_colab_link": true
    },
    "kernelspec": {
      "name": "python3",
      "display_name": "Python 3"
    }
  },
  "cells": [
    {
      "cell_type": "markdown",
      "metadata": {
        "id": "view-in-github",
        "colab_type": "text"
      },
      "source": [
        "<a href=\"https://colab.research.google.com/github/AmericanoLatte/Colab-Test/blob/master/Working_with_files_using_Google_Drive.ipynb\" target=\"_parent\"><img src=\"https://colab.research.google.com/assets/colab-badge.svg\" alt=\"Open In Colab\"/></a>"
      ]
    },
    {
      "cell_type": "code",
      "metadata": {
        "id": "E2Pwuu22z3az",
        "colab_type": "code",
        "outputId": "a6c1b3fd-43d4-47d4-c6e0-0a9e17eb25fc",
        "colab": {
          "base_uri": "https://localhost:8080/",
          "height": 34
        }
      },
      "source": [
        "from google.colab import drive\n",
        "\n",
        "drive.mount(\"/content/gdrive\")"
      ],
      "execution_count": 0,
      "outputs": [
        {
          "output_type": "stream",
          "text": [
            "Drive already mounted at /content/gdrive; to attempt to forcibly remount, call drive.mount(\"/content/gdrive\", force_remount=True).\n"
          ],
          "name": "stdout"
        }
      ]
    },
    {
      "cell_type": "code",
      "metadata": {
        "id": "PNuN3uXj_vtr",
        "colab_type": "code",
        "outputId": "0113fabf-f0a3-460b-fb69-2e53fbc021ae",
        "colab": {
          "base_uri": "https://localhost:8080/",
          "height": 51
        }
      },
      "source": [
        "!ls \"/content/gdrive/My Drive\""
      ],
      "execution_count": 0,
      "outputs": [
        {
          "output_type": "stream",
          "text": [
            " Archived\t     'Colab Notebooks'\t'Gemstones '  'Marina Bay Family Photo'\n",
            "'Career Transcript'   colab.txt\t\t local\n"
          ],
          "name": "stdout"
        }
      ]
    },
    {
      "cell_type": "code",
      "metadata": {
        "id": "lsPph342_4un",
        "colab_type": "code",
        "outputId": "4fd5d28a-8431-4dab-eb26-1406ac82f9d7",
        "colab": {
          "base_uri": "https://localhost:8080/",
          "height": 51
        }
      },
      "source": [
        "with open (\"/content/gdrive/My Drive/local\",\"r\") as f:\n",
        "    print(f.read())"
      ],
      "execution_count": 0,
      "outputs": [
        {
          "output_type": "stream",
          "text": [
            "Hello from local machine\n",
            "\n"
          ],
          "name": "stdout"
        }
      ]
    },
    {
      "cell_type": "code",
      "metadata": {
        "id": "qlprdE3mDNdu",
        "colab_type": "code",
        "colab": {}
      },
      "source": [
        "with open(\"/content/gdrive/My Drive/colab.txt\",\"w\") as f:\n",
        "    f.write('Hello from Google Colab')"
      ],
      "execution_count": 0,
      "outputs": []
    },
    {
      "cell_type": "code",
      "metadata": {
        "id": "ObqT-DKFEJBV",
        "colab_type": "code",
        "colab": {}
      },
      "source": [
        "from google.colab import files\n",
        "\n",
        "uploaded = files.upload()\n",
        "\n",
        "for filename in uploaded.keys():\n",
        "    print(uploaded(filename))"
      ],
      "execution_count": 0,
      "outputs": []
    },
    {
      "cell_type": "code",
      "metadata": {
        "id": "_AkPjHV9G70J",
        "colab_type": "code",
        "colab": {}
      },
      "source": [
        "with open (\"colab.txt\",\"w\") as f:\n",
        "    f.write ('Hellow from Google Colab!!')\n",
        "\n",
        "files.download(\"colab.txt\")"
      ],
      "execution_count": 0,
      "outputs": []
    },
    {
      "cell_type": "code",
      "metadata": {
        "id": "30w1tqc0LUu0",
        "colab_type": "code",
        "outputId": "0a3f07b1-23ea-47e4-89ce-7ed731d4aab4",
        "colab": {
          "base_uri": "https://localhost:8080/",
          "height": 208
        }
      },
      "source": [
        "!wget 25.io/toau/audio/sample.txt"
      ],
      "execution_count": 0,
      "outputs": [
        {
          "output_type": "stream",
          "text": [
            "--2020-05-06 08:50:24--  http://25.io/toau/audio/sample.txt\n",
            "Resolving 25.io (25.io)... 207.38.94.41, 2605:de00:1:1:4a:57:0:c0\n",
            "Connecting to 25.io (25.io)|207.38.94.41|:80... connected.\n",
            "HTTP request sent, awaiting response... 200 OK\n",
            "Length: 282 [application/octet-stream]\n",
            "Saving to: ‘sample.txt’\n",
            "\n",
            "\rsample.txt            0%[                    ]       0  --.-KB/s               \rsample.txt          100%[===================>]     282  --.-KB/s    in 0s      \n",
            "\n",
            "2020-05-06 08:50:24 (39.1 MB/s) - ‘sample.txt’ saved [282/282]\n",
            "\n"
          ],
          "name": "stdout"
        }
      ]
    }
  ]
}